{
  "nbformat": 4,
  "nbformat_minor": 0,
  "metadata": {
    "colab": {
      "name": "Final Project_TeamFMA.ipynb",
      "provenance": [],
      "collapsed_sections": [],
      "include_colab_link": true
    },
    "kernelspec": {
      "name": "python3",
      "display_name": "Python 3"
    }
  },
  "cells": [
    {
      "cell_type": "markdown",
      "metadata": {
        "id": "view-in-github",
        "colab_type": "text"
      },
      "source": [
        "<a href=\"https://colab.research.google.com/github/mrmids/fma-predictions/blob/Python-Code-Dev/Final_Project_TeamFMA.ipynb\" target=\"_parent\"><img src=\"https://colab.research.google.com/assets/colab-badge.svg\" alt=\"Open In Colab\"/></a>"
      ]
    },
    {
      "cell_type": "code",
      "metadata": {
        "id": "HOB0JeepXp1n"
      },
      "source": [
        "## This is the final project for the November for Python training organized by\n",
        "## ITExperience (https://itexperience.org/)\n",
        "\n",
        "## Dataset being worked on is the FMA dataset\n",
        "\n",
        "'''\n",
        "FMA: A Dataset For Music Analysis\n",
        "Michaël Defferrard, Kirell Benzi, Pierre Vandergheynst, Xavier Bresson, EPFL LTS2.\n",
        "\n",
        "Code & data: https://github.com/mdeff/fma\n",
        "Paper: https://arxiv.org/abs/1612.01840\n",
        "'''\n",
        "\n",
        "## Team Members: Lucky O & Mido G"
      ],
      "execution_count": null,
      "outputs": []
    },
    {
      "cell_type": "code",
      "metadata": {
        "id": "lN2eg_ZMZD0k"
      },
      "source": [
        "## Import the necessary library packages\n",
        "\n",
        "%matplotlib inline\n",
        "\n",
        "import pandas as pd\n",
        "import numpy as np\n",
        "import matplotlib.pyplot as plt\n",
        "import seaborn as sns\n",
        "\n"
      ],
      "execution_count": null,
      "outputs": []
    },
    {
      "cell_type": "code",
      "metadata": {
        "id": "Q88JpYopY--7"
      },
      "source": [
        "fma_data = pandas.read_csv()"
      ],
      "execution_count": null,
      "outputs": []
    }
  ]
}