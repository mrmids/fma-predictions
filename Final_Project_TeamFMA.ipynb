{
  "nbformat": 4,
  "nbformat_minor": 0,
  "metadata": {
    "colab": {
      "name": "Final Project_TeamFMA.ipynb",
      "provenance": [],
      "collapsed_sections": [],
      "toc_visible": true,
      "include_colab_link": true
    },
    "kernelspec": {
      "name": "python3",
      "display_name": "Python 3"
    }
  },
  "cells": [
    {
      "cell_type": "markdown",
      "metadata": {
        "id": "view-in-github",
        "colab_type": "text"
      },
      "source": [
        "<a href=\"https://colab.research.google.com/github/mrmids/fma-predictions/blob/Python-Code-Dev/Final_Project_TeamFMA.ipynb\" target=\"_parent\"><img src=\"https://colab.research.google.com/assets/colab-badge.svg\" alt=\"Open In Colab\"/></a>"
      ]
    },
    {
      "cell_type": "code",
      "metadata": {
        "id": "HOB0JeepXp1n",
        "colab": {
          "base_uri": "https://localhost:8080/",
          "height": 52
        },
        "outputId": "1ff54a52-289b-4616-bd7b-2ccca0928640"
      },
      "source": [
        "## This is the final project for the November for Python training organized by\n",
        "## ITExperience (https://itexperience.org/)\n",
        "\n",
        "## Dataset being worked on is the FMA dataset\n",
        "\n",
        "'''\n",
        "FMA: A Dataset For Music Analysis\n",
        "Michaël Defferrard, Kirell Benzi, Pierre Vandergheynst, Xavier Bresson, EPFL LTS2.\n",
        "\n",
        "Code & data: https://github.com/mdeff/fma\n",
        "Paper: https://arxiv.org/abs/1612.01840\n",
        "'''\n",
        "\n",
        "## Team Members: Lucky O & Mido G"
      ],
      "execution_count": 1,
      "outputs": [
        {
          "output_type": "execute_result",
          "data": {
            "application/vnd.google.colaboratory.intrinsic+json": {
              "type": "string"
            },
            "text/plain": [
              "'\\nFMA: A Dataset For Music Analysis\\nMichaël Defferrard, Kirell Benzi, Pierre Vandergheynst, Xavier Bresson, EPFL LTS2.\\n\\nCode & data: https://github.com/mdeff/fma\\nPaper: https://arxiv.org/abs/1612.01840\\n'"
            ]
          },
          "metadata": {
            "tags": []
          },
          "execution_count": 1
        }
      ]
    },
    {
      "cell_type": "markdown",
      "metadata": {
        "id": "tEGH1VvDQXPY"
      },
      "source": [
        "### Python Packages Used\r\n",
        "- [`Librosa:`](https://librosa.org/ \"Librosa\") audio and music processing in python\r\n",
        "- [`Google-Colab:`](https://pypi.org/project/google-colab/ \"Google-Colab\") colaboratory-specific python libraries\r\n",
        "- [`Pandas:`](https://pandas.pydata.org/ \"Pandas\") data analysis and manipulation tool\r\n",
        "- [`NumPy:`](https://numpy.org/ \"NumPy\") scientific computing with Python\r\n",
        "- [`Matplotlib:`](https://matplotlib.org/ \"Matplotlib\") comprehensive library for creating static, animated, and interactive visualizations in Python\r\n",
        "- [`Seaborn:`](https://seaborn.pydata.org/ \"Seaborn\") provides a high-level interface for drawing attractive and informative statistical graphics\r\n",
        "- [`SciKit Learn:`](https://scikit-learn.org/stable/ \"SKLearn\") machine Learning in Python\r\n",
        "- [`Keras:`](https://keras.io/ \"Keras\") high-level neural networks API for Python\r\n",
        "- [`IPython:`](https://ipython.org/ \"IPython\") provides a rich architecture for interactive computing\r\n",
        "- [`CSV:`](https://docs.python.org/3/library/csv.html \"CSV\") module implements classes to read and write tabular data in CSV format [(useful examples)](https://www.programiz.com/python-programming/reading-csv-files)\r\n",
        "- [`Warnings:`](https://docs.python.org/3/library/warnings.html \"Warnings\") provides control of warning message output on notebook screen"
      ]
    },
    {
      "cell_type": "code",
      "metadata": {
        "id": "vkTMkapvtxYk",
        "colab": {
          "base_uri": "https://localhost:8080/"
        },
        "outputId": "61f2596b-d97c-42e9-e132-97c3779e4037"
      },
      "source": [
        "## Connect to Google Drive\r\n",
        "from google.colab import drive\r\n",
        "drive.mount('/content/drive')"
      ],
      "execution_count": 2,
      "outputs": [
        {
          "output_type": "stream",
          "text": [
            "Mounted at /content/drive\n"
          ],
          "name": "stdout"
        }
      ]
    },
    {
      "cell_type": "code",
      "metadata": {
        "id": "lN2eg_ZMZD0k"
      },
      "source": [
        "## Import the necessary library packages\n",
        "\n",
        "%matplotlib inline\n",
        "\n",
        "import pandas as pd\n",
        "import numpy as np\n",
        "import matplotlib.pyplot as plt\n",
        "import seaborn as sns\n",
        "import sklearn as skl\n",
        "import sklearn.utils, sklearn.preprocessing, sklearn.decomposition, sklearn.svm\n",
        "import librosa\n",
        "import librosa.display\n",
        "import os\n",
        "import IPython.display as ipd\n",
        "import csv\n",
        "\n",
        "import warnings\n",
        "warnings.filterwarnings('ignore')\n",
        "#warnings.filterwarnings(action='once')"
      ],
      "execution_count": 65,
      "outputs": []
    },
    {
      "cell_type": "code",
      "metadata": {
        "id": "Hm9bNMufdA0M"
      },
      "source": [
        "## Identify folder holding mp3 files ** Change path to how it appears on your google drive\r\n",
        "\r\n",
        "path_audio_dir = \"/content/drive/MyDrive/Colab Notebooks/ITExperience Python Training/Final Project/fma_small\"\r\n",
        "\r\n",
        "audio_dir = os.environ.get(path_audio_dir)"
      ],
      "execution_count": 32,
      "outputs": []
    },
    {
      "cell_type": "code",
      "metadata": {
        "id": "wvV-1k3uvT_e"
      },
      "source": [
        "## Load FMA MetaData Data Files ** Change path to how it appears on your google drive\r\n",
        "\r\n",
        "path_echonest = \"/content/drive/MyDrive/Colab Notebooks/ITExperience Python Training/Final Project/fma_metadata/echonest.csv\"\r\n",
        "path_tracks = \"/content/drive/MyDrive/Colab Notebooks/ITExperience Python Training/Final Project/fma_metadata/tracks.csv\"\r\n",
        "path_features = \"/content/drive/MyDrive/Colab Notebooks/ITExperience Python Training/Final Project/fma_metadata/features.csv\"\r\n",
        "path_genres = \"/content/drive/MyDrive/Colab Notebooks/ITExperience Python Training/Final Project/fma_metadata/genres.csv\"\r\n",
        "\r\n",
        "echonest = pd.read_csv(path_echonest)\r\n",
        "tracks = pd.read_csv(path_tracks)\r\n",
        "features = pd.read_csv(path_features)\r\n",
        "genres = pd.read_csv(path_genres)"
      ],
      "execution_count": 66,
      "outputs": []
    }
  ]
}